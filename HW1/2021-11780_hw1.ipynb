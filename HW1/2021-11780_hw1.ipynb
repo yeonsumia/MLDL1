{
 "cells": [
  {
   "cell_type": "markdown",
   "id": "1755359b",
   "metadata": {},
   "source": [
    "## 1"
   ]
  },
  {
   "cell_type": "code",
   "execution_count": 154,
   "id": "23a72e24",
   "metadata": {},
   "outputs": [],
   "source": [
    "import pandas as pd\n",
    "import numpy as np\n",
    "\n",
    "data_conversion = lambda a: 1 if a == 'Yes' else 0\n",
    "vdata_conversion = np.vectorize(data_conversion)\n",
    "data = pd.read_csv(\"Carseats.csv\") # shape(400,11)\n",
    "sales = np.array(data[\"Sales\"]) # float64\n",
    "price = np.array(data[\"Price\"]) # int64 (400,)\n",
    "urban = vdata_conversion(np.array(data[\"Urban\"])) # (400,)\n",
    "us = vdata_conversion(np.array(data[\"US\"])) # (400,)\n",
    "columns_names = [\"Price\", \"Urban\", \"US\", \"Sales\"]\n",
    "train_data = pd.DataFrame(np.column_stack((price, urban, us, sales)), columns=columns_names)"
   ]
  },
  {
   "cell_type": "markdown",
   "id": "07abfc84",
   "metadata": {},
   "source": [
    "### 1-(a)"
   ]
  },
  {
   "cell_type": "code",
   "execution_count": 138,
   "id": "73d9e442",
   "metadata": {},
   "outputs": [
    {
     "name": "stdout",
     "output_type": "stream",
     "text": [
      "R^2: 0.23927539218405547\n"
     ]
    }
   ],
   "source": [
    "import statsmodels.formula.api as sm\n",
    "\n",
    "model_a = sm.ols('Sales ~ Price + Urban + US', data = train_data).fit()\n",
    "\n",
    "# R^2 scores\n",
    "print(\"R^2:\", model_a.rsquared)"
   ]
  },
  {
   "cell_type": "markdown",
   "id": "499aecbf",
   "metadata": {},
   "source": [
    "### 1-(b)"
   ]
  },
  {
   "cell_type": "markdown",
   "id": "7bd86dc5",
   "metadata": {},
   "source": [
    "x1: Price, x2: Urban, x3: US, bi: 대응되는 xi의 coefficient (i=1,2,3), b0: intercept  \n",
    "Linear Regression Model(y=b0+b1x1+b2x2+b3x3)에서,  \n",
    "b1는 x1(Price)를 제외한 다른 predictors들이 고정되어 있을 때, x1(Price)가 1 단위 증가할 때 y(Sales) 값에 주는 평균적인 변화량(average effect)을 의미한다.  \n",
    "b2는 x2(Urban)를 제외한 다른 predictors들이 고정되어 있을 때, x2(Urban)이 'No'일 때에 대해 'Yes'로 바뀔 때 y(Sales) 값에 주는 평균적인 변화량을 의미한다.  \n",
    "b3는 x3(US)를 제외한 다른 predictors들이 고정되어 있을 때, x3(US)이 'No'일 때에 대해 'Yes'로 바뀔 때 y(Sales) 값에 주는 평균적인 변화량을 의미한다."
   ]
  },
  {
   "cell_type": "markdown",
   "id": "ea71066c",
   "metadata": {},
   "source": [
    "### 1-(c)"
   ]
  },
  {
   "cell_type": "code",
   "execution_count": 144,
   "id": "015814ae",
   "metadata": {},
   "outputs": [
    {
     "name": "stdout",
     "output_type": "stream",
     "text": [
      "b0: 13.043468936764889\n",
      "b1: -0.05445884917758212\n",
      "b2: -0.021916150814141434\n",
      "b3: 1.2005726977941158\n",
      "\n"
     ]
    }
   ],
   "source": [
    "# intercept and coefficients\n",
    "[print(\"b%i: %s\" %(i,j)) for i,j in enumerate(model_a.params)]\n",
    "print()"
   ]
  },
  {
   "cell_type": "markdown",
   "id": "89e447cb",
   "metadata": {},
   "source": [
    "y = 13.043468936764889 + -0.05445884917758212x1 + -0.021916150814141434x2 + 1.2005726977941156x3  \n",
    "(x2, x3 값은 각각 0일 때 'No', 1일 때 'Yes'를 의미함)"
   ]
  },
  {
   "cell_type": "markdown",
   "id": "abc8f197",
   "metadata": {},
   "source": [
    "### 1-(d)"
   ]
  },
  {
   "cell_type": "code",
   "execution_count": 145,
   "id": "9972c8d7",
   "metadata": {},
   "outputs": [
    {
     "name": "stdout",
     "output_type": "stream",
     "text": [
      "                            OLS Regression Results                            \n",
      "==============================================================================\n",
      "Dep. Variable:                  Sales   R-squared:                       0.239\n",
      "Model:                            OLS   Adj. R-squared:                  0.234\n",
      "Method:                 Least Squares   F-statistic:                     41.52\n",
      "Date:                Wed, 06 Apr 2022   Prob (F-statistic):           2.39e-23\n",
      "Time:                        16:28:00   Log-Likelihood:                -927.66\n",
      "No. Observations:                 400   AIC:                             1863.\n",
      "Df Residuals:                     396   BIC:                             1879.\n",
      "Df Model:                           3                                         \n",
      "Covariance Type:            nonrobust                                         \n",
      "==============================================================================\n",
      "                 coef    std err          t      P>|t|      [0.025      0.975]\n",
      "------------------------------------------------------------------------------\n",
      "Intercept     13.0435      0.651     20.036      0.000      11.764      14.323\n",
      "Price         -0.0545      0.005    -10.389      0.000      -0.065      -0.044\n",
      "Urban         -0.0219      0.272     -0.081      0.936      -0.556       0.512\n",
      "US             1.2006      0.259      4.635      0.000       0.691       1.710\n",
      "==============================================================================\n",
      "Omnibus:                        0.676   Durbin-Watson:                   1.912\n",
      "Prob(Omnibus):                  0.713   Jarque-Bera (JB):                0.758\n",
      "Skew:                           0.093   Prob(JB):                        0.684\n",
      "Kurtosis:                       2.897   Cond. No.                         628.\n",
      "==============================================================================\n",
      "\n",
      "Notes:\n",
      "[1] Standard Errors assume that the covariance matrix of the errors is correctly specified.\n"
     ]
    }
   ],
   "source": [
    "print(model_a.summary())"
   ]
  },
  {
   "cell_type": "markdown",
   "id": "287dcf08",
   "metadata": {},
   "source": [
    "constant와 variables의 p-value(P>|t|)를 살펴 보면, Intercept, Price(x1), US(x3)의 p-value는 매우 작기 때문에(<0.001) null hypothesis를 reject하고, Urban(x2)의 p-value는 매우 크므로(1에 근접) null hypothesis를 reject하지 못한다. 즉 문제에서 j=0,1,3일 때 null hypothesis를 reject한다."
   ]
  },
  {
   "cell_type": "markdown",
   "id": "90bfe43d",
   "metadata": {},
   "source": [
    "### 1-(e)"
   ]
  },
  {
   "cell_type": "code",
   "execution_count": 147,
   "id": "942324b1",
   "metadata": {},
   "outputs": [
    {
     "name": "stdout",
     "output_type": "stream",
     "text": [
      "                            OLS Regression Results                            \n",
      "==============================================================================\n",
      "Dep. Variable:                  Sales   R-squared:                       0.239\n",
      "Model:                            OLS   Adj. R-squared:                  0.235\n",
      "Method:                 Least Squares   F-statistic:                     62.43\n",
      "Date:                Wed, 06 Apr 2022   Prob (F-statistic):           2.66e-24\n",
      "Time:                        16:29:38   Log-Likelihood:                -927.66\n",
      "No. Observations:                 400   AIC:                             1861.\n",
      "Df Residuals:                     397   BIC:                             1873.\n",
      "Df Model:                           2                                         \n",
      "Covariance Type:            nonrobust                                         \n",
      "==============================================================================\n",
      "                 coef    std err          t      P>|t|      [0.025      0.975]\n",
      "------------------------------------------------------------------------------\n",
      "Intercept     13.0308      0.631     20.652      0.000      11.790      14.271\n",
      "Price         -0.0545      0.005    -10.416      0.000      -0.065      -0.044\n",
      "US             1.1996      0.258      4.641      0.000       0.692       1.708\n",
      "==============================================================================\n",
      "Omnibus:                        0.666   Durbin-Watson:                   1.912\n",
      "Prob(Omnibus):                  0.717   Jarque-Bera (JB):                0.749\n",
      "Skew:                           0.092   Prob(JB):                        0.688\n",
      "Kurtosis:                       2.895   Cond. No.                         607.\n",
      "==============================================================================\n",
      "\n",
      "Notes:\n",
      "[1] Standard Errors assume that the covariance matrix of the errors is correctly specified.\n"
     ]
    }
   ],
   "source": [
    "model_e = sm.ols('Sales ~ Price + US', data=train_data).fit()\n",
    "print(model_e.summary())"
   ]
  },
  {
   "cell_type": "markdown",
   "id": "2f8a24d4",
   "metadata": {},
   "source": [
    "null hypothesis를 reject하지 못하는 Urban(x2)를 제외하고, 신뢰수준 0.05에서 통계적으로 유의한 Price(x1), US(x3) 변수만 이용하여 regression model을 얻었다."
   ]
  },
  {
   "cell_type": "markdown",
   "id": "909e5ab6",
   "metadata": {},
   "source": [
    "### 1-(f)"
   ]
  },
  {
   "cell_type": "code",
   "execution_count": 148,
   "id": "194be0d2",
   "metadata": {},
   "outputs": [
    {
     "name": "stdout",
     "output_type": "stream",
     "text": [
      "model (a)\n",
      "R^2 score: 0.23927539218405547\n",
      "AIC: 1863.3120738106172\n",
      "BIC: 1879.277931999049\n",
      "\n",
      "model (e)\n",
      "R^2 score: 0.23926288842678567\n",
      "AIC: 1861.3186484129808\n",
      "BIC: 1873.2930420543048\n"
     ]
    }
   ],
   "source": [
    "print(\"model (a)\")\n",
    "print(\"R^2 score:\", model_a.rsquared)\n",
    "print(\"AIC:\", model_a.aic)\n",
    "print(\"BIC:\", model_a.bic)\n",
    "print()\n",
    "\n",
    "print(\"model (e)\")\n",
    "print(\"R^2 score:\", model_e.rsquared)\n",
    "print(\"AIC:\", model_e.aic)\n",
    "print(\"BIC:\", model_e.bic)"
   ]
  },
  {
   "cell_type": "markdown",
   "id": "a4382cd1",
   "metadata": {},
   "source": [
    "model (e)가 model (a)보다 data fitting을 더 잘 하였다. AIC, BIC 값이 낮을 수록 좋은 model이다. (a)~(d)까지 사용한 model보다 (e)에서 사용한 model이 AIC, BIC 값이 더 낮으므로 Part (e)의 model이 data fitting을 더 잘한다. 두 model이 동일한 data set로 fit되었으므로, TSS 값은 같고 model의 predictor 수를 늘릴 수록 RSS 값은 같거나 크다. 따라서 model의 predictor 수를 늘릴 수록 R^2=1-RSS/TSS 값은 같거나 크다. 따라서 R^2 score가 높다고 해서 model이 더 data fitting을 잘 한다는 보장이 없다. 반면 AIC, BIC 값은 RSS 값(혹은 RSS와 동치인 -2log(likelihood)(각각을 maximizing하는 beta가 같다는 관점에서 동치))과 predictor 개수를 둘 다 고려하여 서로 다른 model size를 갖는 model을 비교하는데 더욱 적합한 기준이 된다."
   ]
  },
  {
   "cell_type": "markdown",
   "id": "61abb694",
   "metadata": {},
   "source": [
    "### 1-(g)"
   ]
  },
  {
   "cell_type": "code",
   "execution_count": 151,
   "id": "e71038a0",
   "metadata": {},
   "outputs": [
    {
     "name": "stdout",
     "output_type": "stream",
     "text": [
      "95% confidence intervals for the coefficients\n",
      "                  0          1\n",
      "Intercept  11.79032  14.271265\n",
      "Price      -0.06476  -0.044195\n",
      "US          0.69152   1.707766\n"
     ]
    }
   ],
   "source": [
    "print(\"95% confidence intervals for the coefficients\")\n",
    "print(model_e.conf_int(alpha=.05))"
   ]
  },
  {
   "cell_type": "markdown",
   "id": "99523515",
   "metadata": {},
   "source": [
    "b1의 95% 신뢰구간: [-0.06476, -0.044195]  \n",
    "b3의 95% 신뢰구간: [0.69152, 1.707766]  "
   ]
  },
  {
   "cell_type": "markdown",
   "id": "096450f5",
   "metadata": {},
   "source": [
    "## 2"
   ]
  },
  {
   "cell_type": "code",
   "execution_count": 152,
   "id": "b28a2afe",
   "metadata": {},
   "outputs": [],
   "source": [
    "data2 = pd.read_csv(\"Default.csv\")\n",
    "\n",
    "balance = np.array(data2[\"balance\"])\n",
    "income = np.array(data2[\"income\"])\n",
    "default = vdata_conversion(np.array(data2[\"default\"]))\n",
    "student = vdata_conversion(np.array(data2[\"student\"]))\n",
    "\n",
    "x_train2 = np.column_stack((income, balance))"
   ]
  },
  {
   "cell_type": "markdown",
   "id": "a29601f1",
   "metadata": {},
   "source": [
    "### 2-(a)"
   ]
  },
  {
   "cell_type": "code",
   "execution_count": 153,
   "id": "bd72dac4",
   "metadata": {},
   "outputs": [
    {
     "name": "stdout",
     "output_type": "stream",
     "text": [
      "validation set error(estimated test error): 0.0338\n"
     ]
    }
   ],
   "source": [
    "from sklearn.model_selection import train_test_split\n",
    "from sklearn.linear_model import LogisticRegression\n",
    "\n",
    "# Split the sample set into a training set and a validation set\n",
    "X_train, X_val, Y_train, Y_val = train_test_split(x_train2, default, test_size = 0.5, shuffle=True, random_state = 2022)\n",
    "\n",
    "# Fit a multiple logistic regression model\n",
    "mlgr = LogisticRegression()\n",
    "mlgr.fit(X_train, Y_train)\n",
    "\n",
    "# Equivalent to mlgr.predict(X_val)\n",
    "# params = np.concatenate((mlgr.intercept_, mlgr.coef_[0]))\n",
    "log_odds = mlgr.intercept_ + X_val.dot(mlgr.coef_[0])\n",
    "posterior_prob = np.exp(log_odds) / (1 + np.exp(log_odds))\n",
    "posterior_prob_classified = np.array([1 if i > 0.5 else 0 for i in posterior_prob])\n",
    "val_error = sum([0 if i==j else 1 for (i,j) in zip(Y_val, posterior_prob_classified)]) / Y_val.shape[0]\n",
    "\n",
    "print(\"validation set error(estimated test error):\", end=\" \")\n",
    "print(val_error)"
   ]
  },
  {
   "cell_type": "markdown",
   "id": "b7ae2521",
   "metadata": {},
   "source": [
    "### 2-(b)"
   ]
  },
  {
   "cell_type": "markdown",
   "id": "a2dc0e8c",
   "metadata": {},
   "source": [
    "Logistic Regression Model (p(y=1|x)=exp(b0+b1x1+b2x2)/(1+exp(b0+b1x1+b2x2)))에서  \n",
    "b1는 balance(x2) predictor가 고정되어 있을 때, income(x1)가 1 단위 증가할 때 Default의 log odds 값에 주는 변화량을 의미한다.  \n",
    "b2는 income(x1) predictor가 고정되어 있을 때, balance(x2)가 1 단위 증가할 때 Default의 log odds 값에 주는 변화량을 의미한다.  "
   ]
  },
  {
   "cell_type": "markdown",
   "id": "7084a47c",
   "metadata": {},
   "source": [
    "### 2-(c)"
   ]
  },
  {
   "cell_type": "code",
   "execution_count": 155,
   "id": "45db7944",
   "metadata": {},
   "outputs": [
    {
     "name": "stdout",
     "output_type": "stream",
     "text": [
      "[0.0235, 0.0215, 0.0325, 0.03, 0.027]\n",
      "5-fold cross-validation error(estimated test error): 0.0269\n"
     ]
    }
   ],
   "source": [
    "import random as rd\n",
    "\n",
    "def k_fold_cv(k, X_train, Y_train):\n",
    "    indices = np.array(range(len(X_train)))\n",
    "    rd.shuffle(indices)\n",
    "    k_indices = np.split(indices,k)\n",
    "\n",
    "    k_x_groups = [X_train[k_indices[i]] for i in range(k)]\n",
    "    k_y_groups = [Y_train[k_indices[i]] for i in range(k)]\n",
    "    val_errors = []\n",
    "    for i in range(k):\n",
    "        x_val = k_x_groups[i]\n",
    "        y_val = k_y_groups[i]\n",
    "        x_train = np.concatenate(k_x_groups[:i] + k_x_groups[i+1:])\n",
    "        y_train = np.concatenate(k_y_groups[:i] + k_y_groups[i+1:])\n",
    "        \n",
    "        mlgr = LogisticRegression()\n",
    "        mlgr.fit(x_train, y_train)\n",
    "\n",
    "        log_odds = mlgr.intercept_ + x_val.dot(mlgr.coef_[0])\n",
    "        posterior_prob = np.exp(log_odds) / (1 + np.exp(log_odds))\n",
    "        posterior_prob_classified = np.array([1 if i > 0.5 else 0 for i in posterior_prob])\n",
    "        val_errors.append(sum([0 if i==j else 1 for (i,j) in zip(y_val, posterior_prob_classified)]) / y_val.shape[0])\n",
    "    return val_errors\n",
    "\n",
    "rd.seed(2022)\n",
    "k = 5\n",
    "val_errors = k_fold_cv(k, x_train2, default)\n",
    "print(val_errors)\n",
    "val_error = np.mean(val_errors)\n",
    "print(\"5-fold cross-validation error(estimated test error):\", end=\" \")\n",
    "print(round(val_error,5))"
   ]
  },
  {
   "cell_type": "markdown",
   "id": "7cbdf290",
   "metadata": {},
   "source": [
    "2-(a)에서 구한 validation set error는 주어진 train set의 1/2을 이용해 학습한 model로부터 얻은 것이고, 2-(c)에서 구한 k-fold cross-validation error는 주어진 train set의 (k-1)/k을 이용해 학습한 model들의 평균으로 얻은 것이다.  \n",
    "따라서 bias-variance trade off를 고려하면 test error를 estimate할 때 (c)에서 학습한 model이 (a)에서 학습한 model보다 bias가 낮고 variance가 높다는 것을 알 수 있다.  \n",
    "실제로 계산된 error 계산 값이 (a) model보다 (c) model이 더 낮은 것으로부터, (a) model이 test error를 overestimate(high bias)하였음을 추론할 수 있다."
   ]
  },
  {
   "cell_type": "markdown",
   "id": "f06d4b46",
   "metadata": {},
   "source": [
    "### 2-(d)"
   ]
  },
  {
   "cell_type": "code",
   "execution_count": 11,
   "id": "d9208e16",
   "metadata": {},
   "outputs": [
    {
     "name": "stdout",
     "output_type": "stream",
     "text": [
      "[0.025, 0.028, 0.0315, 0.0355, 0.0305]\n",
      "5-fold cross-validation error(estimated test error) with a dummy variable: 0.0301\n"
     ]
    }
   ],
   "source": [
    "x_train3 = np.column_stack((balance, income, student))\n",
    "\n",
    "rd.seed(2022)\n",
    "k = 5\n",
    "\n",
    "val_errors = k_fold_cv(k, x_train3, default)\n",
    "\n",
    "print(val_errors)\n",
    "val_error = np.mean(val_errors)\n",
    "print(\"5-fold cross-validation error(estimated test error) with a dummy variable:\", end=\" \")\n",
    "print(round(val_error,5))"
   ]
  },
  {
   "cell_type": "markdown",
   "id": "22bc2e02",
   "metadata": {},
   "source": [
    "dummy variable(student)를 추가하였더니 5-fold cross-validation error(estimated test error)가 증가하였다. 따라서 dummy variable을 없앤 원래 모델 (c)이 test error가 더 낮을 것으로 예상된다."
   ]
  }
 ],
 "metadata": {
  "kernelspec": {
   "display_name": "Python 3",
   "language": "python",
   "name": "python3"
  },
  "language_info": {
   "codemirror_mode": {
    "name": "ipython",
    "version": 3
   },
   "file_extension": ".py",
   "mimetype": "text/x-python",
   "name": "python",
   "nbconvert_exporter": "python",
   "pygments_lexer": "ipython3",
   "version": "3.8.8"
  }
 },
 "nbformat": 4,
 "nbformat_minor": 5
}
